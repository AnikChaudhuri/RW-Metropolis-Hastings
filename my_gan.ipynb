{
 "metadata": {
  "language_info": {
   "codemirror_mode": {
    "name": "ipython",
    "version": 3
   },
   "file_extension": ".py",
   "mimetype": "text/x-python",
   "name": "python",
   "nbconvert_exporter": "python",
   "pygments_lexer": "ipython3",
   "version": "3.8.3-final"
  },
  "orig_nbformat": 2,
  "kernelspec": {
   "name": "python3",
   "display_name": "Python 3"
  }
 },
 "nbformat": 4,
 "nbformat_minor": 2,
 "cells": [
  {
   "cell_type": "code",
   "execution_count": 2,
   "metadata": {},
   "outputs": [],
   "source": [
    "import torch\n",
    "import torch.nn as nn\n",
    "import torch.optim as optim\n",
    "import numpy as np\n",
    "import matplotlib.pyplot as plt"
   ]
  },
  {
   "cell_type": "code",
   "execution_count": null,
   "metadata": {},
   "outputs": [],
   "source": [
    "class discriminator(nn.Module):\n",
    "    def __init__(self, in_features):\n",
    "        super().__init__()\n",
    "        self.disc = nn.Sequential(\n",
    "            nn.Linear(in_features,64),\n",
    "            nn.LeakyReLU(.01),\n",
    "            nn.Linear(64, 1),\n",
    "            nn.Sigmoid(),\n",
    "        )\n",
    "\n",
    "    def forward(self, x):\n",
    "        return self.disc(x)\n",
    "    \n",
    "class generator(nn.Module):\n",
    "    def __init__(self, n_dim, io_dim):\n",
    "        super().__init__()\n",
    "        self.gen = nn.Sequential(\n",
    "            nn.Linear(n_dim,64),\n",
    "            nn.LeakyReLU(.01),\n",
    "            nn.Linear(64, io_dim),\n",
    "        )\n",
    "\n",
    "    def forward(self, x):\n",
    "        return self.gen(x)\n",
    "\n",
    "n_dim = 3 #noise dimension.\n",
    "io_dim = 20 #generator output and disc input dimension.\n",
    "lr = 3e-4\n",
    "num_epoch = 1000\n",
    "num_exp = 50\n",
    "#batch = 100\n",
    "\n",
    "disc = discriminator(io_dim)\n",
    "gen = generator(n_dim, io_dim)\n",
    "\n",
    "opt_disc = optim.Adam(disc.parameters(), lr=lr)\n",
    "opt_gen = optim.Adam(gen.parameters(), lr=lr)\n",
    "criterion = nn.BCELoss()\n",
    "\n",
    "data = torch.normal(2,1,(1,io_dim))\n",
    "fixed = torch.randint(0,2,(1,n_dim))\n",
    "fixed_noise = fixed.float()\n",
    "\n",
    "z= np.zeros(num_exp*io_dim)\n",
    "for ep in range(num_exp):\n",
    "\n",
    "    for epoch in range(1000):\n",
    "        for batch in range(100):\n",
    "\n",
    "            ##Training discriminator\n",
    "            noise = torch.randint(0,2,(1,n_dim))\n",
    "            noise_f = noise.float()\n",
    "            fake = gen(noise_f)\n",
    "            disc_real = disc(data)\n",
    "            lossD_real = criterion(disc_real, torch.ones_like(disc_real))\n",
    "            disc_fake = disc(fake)\n",
    "            lossD_fake = criterion(disc_fake, torch.zeros_like(disc_fake))\n",
    "            lossD = (lossD_real + lossD_fake) / 2\n",
    "            disc.zero_grad()\n",
    "            lossD.backward(retain_graph=True)\n",
    "            opt_disc.step()\n",
    "\n",
    "\n",
    "            ##Training generator\n",
    "            output = disc(fake)\n",
    "            lossG = criterion(output, torch.ones_like(output))\n",
    "            gen.zero_grad()\n",
    "            lossG.backward()\n",
    "            opt_gen.step()\n",
    "\n",
    "        generated_samples = gen(noise_f)\n",
    "        \n",
    "\n",
    "        for ep1 in range(io_dim):\n",
    "            z[io_dim*ep + ep1] = generated_samples[0,ep1].item()\n"
   ]
  },
  {
   "cell_type": "code",
   "execution_count": null,
   "metadata": {},
   "outputs": [],
   "source": [
    "m=generated_samples\n",
    "print(torch.mean(m))\n",
    "print(torch.std(m))"
   ]
  },
  {
   "cell_type": "code",
   "execution_count": null,
   "metadata": {},
   "outputs": [],
   "source": [
    "z"
   ]
  },
  {
   "cell_type": "code",
   "execution_count": null,
   "metadata": {},
   "outputs": [],
   "source": [
    "from scipy.stats.kde import gaussian_kde\n",
    "density = gaussian_kde(z)\n",
    "xs = np.linspace(-3,7,len(z))\n",
    "plt.plot(xs,density(xs))\n",
    "#plt.hist(K1,density=True)\n",
    "#matplotlib.pyplot.title('marginal distribution of alpha1')\n",
    "plt.ylabel('alpha1')\n",
    "#plt.plot(K1,np.exp(-K3))\n",
    "plt.show()\n",
    "#statistics.mode(Kth_1)\n",
    "a = (density(xs))\n",
    "i = list(a).index(max(density(xs))) \n",
    "i\n",
    "xs[i]"
   ]
  },
  {
   "cell_type": "code",
   "execution_count": null,
   "metadata": {},
   "outputs": [],
   "source": [
    "data"
   ]
  },
  {
   "cell_type": "code",
   "execution_count": null,
   "metadata": {},
   "outputs": [],
   "source": [
    "n = torch.randint(0,2,(1,3)).float()\n",
    "gen(n)"
   ]
  },
  {
   "cell_type": "code",
   "execution_count": null,
   "metadata": {},
   "outputs": [],
   "source": [
    "b=y.float()\n",
    "v(b)"
   ]
  },
  {
   "cell_type": "code",
   "execution_count": null,
   "metadata": {},
   "outputs": [],
   "source": [
    "z.shape"
   ]
  },
  {
   "cell_type": "code",
   "execution_count": null,
   "metadata": {},
   "outputs": [],
   "source": [
    "print(type(z))\n",
    "print(type(y))"
   ]
  },
  {
   "cell_type": "code",
   "execution_count": 3,
   "metadata": {},
   "outputs": [
    {
     "output_type": "stream",
     "name": "stdout",
     "text": [
      "tensor([[0.3205, 2.0439, 3.1458]])\ntensor([[0.4806, 0.3957, 0.1238]])\n"
     ]
    }
   ],
   "source": [
    "y = torch.Tensor([[10,6,3]])\n",
    "m = torch.distributions.dirichlet.Dirichlet(y)\n",
    "z=m.sample()\n",
    "data = torch.normal(2,1,(1,3))\n",
    "print(data)\n",
    "print(z)"
   ]
  },
  {
   "cell_type": "code",
   "execution_count": 44,
   "metadata": {},
   "outputs": [],
   "source": [
    "class generator(nn.Module):\n",
    "    def __init__(self, n_dim, io_dim):\n",
    "        super().__init__()\n",
    "        self.gen = nn.Sequential(\n",
    "            nn.Linear(n_dim,64),\n",
    "            nn.LeakyReLU(.01),\n",
    "            nn.Linear(64, io_dim),\n",
    "        )\n",
    "\n",
    "    def forward(self, x):\n",
    "        return self.gen(x)"
   ]
  },
  {
   "cell_type": "code",
   "execution_count": 45,
   "metadata": {},
   "outputs": [
    {
     "output_type": "execute_result",
     "data": {
      "text/plain": [
       "tensor([[-0.0635,  0.0355, -0.0295]], grad_fn=<AddmmBackward>)"
      ]
     },
     "metadata": {},
     "execution_count": 45
    }
   ],
   "source": [
    "gen = generator(3,3)\n",
    "gen(z)"
   ]
  },
  {
   "cell_type": "code",
   "execution_count": null,
   "metadata": {},
   "outputs": [],
   "source": []
  },
  {
   "cell_type": "code",
   "execution_count": null,
   "metadata": {},
   "outputs": [],
   "source": []
  },
  {
   "cell_type": "code",
   "execution_count": null,
   "metadata": {},
   "outputs": [],
   "source": [
    "\n"
   ]
  },
  {
   "cell_type": "code",
   "execution_count": null,
   "metadata": {},
   "outputs": [],
   "source": [
    "x"
   ]
  },
  {
   "cell_type": "code",
   "execution_count": null,
   "metadata": {},
   "outputs": [],
   "source": []
  }
 ]
}