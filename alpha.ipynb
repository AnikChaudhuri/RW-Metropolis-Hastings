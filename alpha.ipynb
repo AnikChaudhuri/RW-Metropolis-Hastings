{
 "cells": [
  {
   "cell_type": "code",
   "execution_count": 1,
   "metadata": {},
   "outputs": [],
   "source": [
    "import numpy as np\n",
    "import matplotlib.pyplot as plt \n",
    "import pandas\n",
    "from scipy.stats.kde import gaussian_kde\n",
    "from numpy import linspace\n",
    "import statistics \n",
    "import math\n",
    "from scipy.stats import multinomial\n",
    "from scipy.stats import dirichlet\n",
    "from scipy.special import gamma\n"
   ]
  },
  {
   "cell_type": "code",
   "execution_count": 2,
   "metadata": {},
   "outputs": [],
   "source": [
    "def dch(k1, k2, k3, alphacurr1, alphacurr2, alphacurr3):\n",
    "    \n",
    "    beta_k = gamma(k1)*gamma(k2)*gamma(k3)/(gamma(k1+k2+k3))\n",
    "    S =0\n",
    "    for gene in range(samp):\n",
    "        S = S + np.log( alphacurr1[gene]**(k1-1)* alphacurr2[gene]**(k2-1)* alphacurr3[gene]**(k3-1)/beta_k)\n",
    "        return S\n",
    "\n",
    "    \n",
    "def alphr(a1, a2, a3, prop_a1, prop_a2, prop_a3):\n",
    "    beta_a = gamma(prop_a1)*gamma(prop_a2)*gamma(prop_a3)/(gamma(prop_a1 + prop_a2 + prop_a3)) \n",
    "    alr = np.log(a1**(prop_a1-1)*a2**(prop_a2-1)*a3**(prop_a3-1)) - np.log(beta_a)\n",
    "    return alr\n",
    "\n",
    "\n",
    "def rpa(ar1, ar2, ar3, k1, k2, k3, c, nu, d1, d2, d3):\n",
    "    de = [d1,d2,d3]\n",
    "    a = [ar1, ar2, ar3]\n",
    "    m = np.dot(de,a)\n",
    "    ex = ((-0.5)*c *(r[nu] - m)**2 / (r[nu]**2 + m**2))\n",
    "    A = np.log((m*(r[nu] + m)/(r[nu]**2 + m**2)**1.5))+ ex + np.log(ar1**(k1-1)*ar2**(k2-1)*ar3**(k3-1))\n",
    "    return A\n",
    "\n",
    "def dirich(ka1,ka2,ka3):\n",
    "    \n",
    "    c1 = np.random.gamma(ka1,1,1)\n",
    "    c2 = np.random.gamma(ka2,1,1)\n",
    "    c3 = np.random.gamma(ka3,1,1)\n",
    "    \n",
    "    xc1 = c1/(c1+c2+c3)\n",
    "    xc2 = c2/(c1+c2+c3)\n",
    "    xc3 = c3/(c1+c2+c3)\n",
    "        \n",
    "    return [xc1, xc2, xc3]       \n",
    "\n",
    "    \n",
    "    "
   ]
  },
  {
   "cell_type": "code",
   "execution_count": 3,
   "metadata": {},
   "outputs": [],
   "source": [
    "dir = np.random.dirichlet([10,6,3],1000000).T\n",
    "uni1 = np.random.randint(2, size=1000000)\n",
    "uni2 = np.random.randint(2, size=1000000)\n",
    "uni3 = np.random.randint(2, size=1000000)\n",
    "mu = np.zeros(1000000); r= np.zeros(1000000)\n",
    "for gen in range(1000000):\n",
    "    mu[gen] = dir[0,gen]*uni1[gen]+dir[1,gen]*uni2[gen]+dir[2,gen]*uni3[gen]\n",
    "    r[gen] = np.random.normal(mu[gen],.1*mu[gen],1)"
   ]
  },
  {
   "cell_type": "code",
   "execution_count": null,
   "metadata": {},
   "outputs": [],
   "source": []
  },
  {
   "cell_type": "code",
   "execution_count": 4,
   "metadata": {
    "scrolled": false
   },
   "outputs": [
    {
     "name": "stderr",
     "output_type": "stream",
     "text": [
      "/home/anik/anaconda3/lib/python3.7/site-packages/ipykernel_launcher.py:20: RuntimeWarning: invalid value encountered in true_divide\n",
      "/home/anik/anaconda3/lib/python3.7/site-packages/ipykernel_launcher.py:21: RuntimeWarning: invalid value encountered in true_divide\n",
      "/home/anik/anaconda3/lib/python3.7/site-packages/ipykernel_launcher.py:20: RuntimeWarning: invalid value encountered in double_scalars\n",
      "/home/anik/anaconda3/lib/python3.7/site-packages/ipykernel_launcher.py:21: RuntimeWarning: invalid value encountered in double_scalars\n",
      "/home/anik/anaconda3/lib/python3.7/site-packages/ipykernel_launcher.py:74: RuntimeWarning: invalid value encountered in double_scalars\n"
     ]
    },
    {
     "ename": "KeyboardInterrupt",
     "evalue": "",
     "output_type": "error",
     "traceback": [
      "\u001b[0;31m---------------------------------------------------------------------------\u001b[0m",
      "\u001b[0;31mKeyboardInterrupt\u001b[0m                         Traceback (most recent call last)",
      "\u001b[0;32m<ipython-input-4-96bfa10deafa>\u001b[0m in \u001b[0;36m<module>\u001b[0;34m\u001b[0m\n\u001b[1;32m     46\u001b[0m \u001b[0;34m\u001b[0m\u001b[0m\n\u001b[1;32m     47\u001b[0m \u001b[0;34m\u001b[0m\u001b[0m\n\u001b[0;32m---> 48\u001b[0;31m         \u001b[0mp_num\u001b[0m \u001b[0;34m=\u001b[0m \u001b[0mrpa\u001b[0m\u001b[0;34m(\u001b[0m\u001b[0mprop_a1\u001b[0m\u001b[0;34m,\u001b[0m \u001b[0mprop_a2\u001b[0m\u001b[0;34m,\u001b[0m \u001b[0mprop_a3\u001b[0m\u001b[0;34m,\u001b[0m \u001b[0mk1\u001b[0m\u001b[0;34m,\u001b[0m \u001b[0mk2\u001b[0m\u001b[0;34m,\u001b[0m \u001b[0mk3\u001b[0m\u001b[0;34m,\u001b[0m \u001b[0mc\u001b[0m\u001b[0;34m,\u001b[0m \u001b[0malp\u001b[0m\u001b[0;34m,\u001b[0m\u001b[0muni1\u001b[0m\u001b[0;34m[\u001b[0m\u001b[0malp\u001b[0m\u001b[0;34m]\u001b[0m\u001b[0;34m,\u001b[0m\u001b[0muni2\u001b[0m\u001b[0;34m[\u001b[0m\u001b[0malp\u001b[0m\u001b[0;34m]\u001b[0m\u001b[0;34m,\u001b[0m\u001b[0muni3\u001b[0m\u001b[0;34m[\u001b[0m\u001b[0malp\u001b[0m\u001b[0;34m]\u001b[0m\u001b[0;34m)\u001b[0m\u001b[0;34m\u001b[0m\u001b[0;34m\u001b[0m\u001b[0m\n\u001b[0m\u001b[1;32m     49\u001b[0m         \u001b[0mp_den\u001b[0m \u001b[0;34m=\u001b[0m \u001b[0mrpa\u001b[0m\u001b[0;34m(\u001b[0m\u001b[0mac1\u001b[0m\u001b[0;34m,\u001b[0m \u001b[0mac2\u001b[0m\u001b[0;34m,\u001b[0m \u001b[0mac3\u001b[0m\u001b[0;34m,\u001b[0m \u001b[0mk1\u001b[0m\u001b[0;34m,\u001b[0m \u001b[0mk2\u001b[0m\u001b[0;34m,\u001b[0m \u001b[0mk3\u001b[0m\u001b[0;34m,\u001b[0m \u001b[0mc\u001b[0m\u001b[0;34m,\u001b[0m \u001b[0malp\u001b[0m\u001b[0;34m,\u001b[0m\u001b[0muni1\u001b[0m\u001b[0;34m[\u001b[0m\u001b[0malp\u001b[0m\u001b[0;34m]\u001b[0m\u001b[0;34m,\u001b[0m\u001b[0muni2\u001b[0m\u001b[0;34m[\u001b[0m\u001b[0malp\u001b[0m\u001b[0;34m]\u001b[0m\u001b[0;34m,\u001b[0m\u001b[0muni3\u001b[0m\u001b[0;34m[\u001b[0m\u001b[0malp\u001b[0m\u001b[0;34m]\u001b[0m\u001b[0;34m)\u001b[0m\u001b[0;34m\u001b[0m\u001b[0;34m\u001b[0m\u001b[0m\n\u001b[1;32m     50\u001b[0m         \u001b[0malpha_num\u001b[0m \u001b[0;34m=\u001b[0m \u001b[0malphr\u001b[0m\u001b[0;34m(\u001b[0m\u001b[0mac1\u001b[0m\u001b[0;34m,\u001b[0m \u001b[0mac2\u001b[0m\u001b[0;34m,\u001b[0m \u001b[0mac3\u001b[0m\u001b[0;34m,\u001b[0m \u001b[0mprop_a1\u001b[0m\u001b[0;34m/\u001b[0m\u001b[0mU\u001b[0m\u001b[0;34m,\u001b[0m \u001b[0mprop_a2\u001b[0m\u001b[0;34m/\u001b[0m\u001b[0mU\u001b[0m\u001b[0;34m,\u001b[0m \u001b[0mprop_a3\u001b[0m\u001b[0;34m/\u001b[0m\u001b[0mU\u001b[0m\u001b[0;34m)\u001b[0m\u001b[0;34m\u001b[0m\u001b[0;34m\u001b[0m\u001b[0m\n",
      "\u001b[0;32m<ipython-input-2-f6a1a2c97ded>\u001b[0m in \u001b[0;36mrpa\u001b[0;34m(ar1, ar2, ar3, k1, k2, k3, c, nu, d1, d2, d3)\u001b[0m\n\u001b[1;32m     19\u001b[0m     \u001b[0mm\u001b[0m \u001b[0;34m=\u001b[0m \u001b[0mnp\u001b[0m\u001b[0;34m.\u001b[0m\u001b[0mdot\u001b[0m\u001b[0;34m(\u001b[0m\u001b[0mde\u001b[0m\u001b[0;34m,\u001b[0m\u001b[0ma\u001b[0m\u001b[0;34m)\u001b[0m\u001b[0;34m\u001b[0m\u001b[0;34m\u001b[0m\u001b[0m\n\u001b[1;32m     20\u001b[0m     \u001b[0mex\u001b[0m \u001b[0;34m=\u001b[0m \u001b[0;34m(\u001b[0m\u001b[0;34m(\u001b[0m\u001b[0;34m-\u001b[0m\u001b[0;36m0.5\u001b[0m\u001b[0;34m)\u001b[0m\u001b[0;34m*\u001b[0m\u001b[0mc\u001b[0m \u001b[0;34m*\u001b[0m\u001b[0;34m(\u001b[0m\u001b[0mr\u001b[0m\u001b[0;34m[\u001b[0m\u001b[0mnu\u001b[0m\u001b[0;34m]\u001b[0m \u001b[0;34m-\u001b[0m \u001b[0mm\u001b[0m\u001b[0;34m)\u001b[0m\u001b[0;34m**\u001b[0m\u001b[0;36m2\u001b[0m \u001b[0;34m/\u001b[0m \u001b[0;34m(\u001b[0m\u001b[0mr\u001b[0m\u001b[0;34m[\u001b[0m\u001b[0mnu\u001b[0m\u001b[0;34m]\u001b[0m\u001b[0;34m**\u001b[0m\u001b[0;36m2\u001b[0m \u001b[0;34m+\u001b[0m \u001b[0mm\u001b[0m\u001b[0;34m**\u001b[0m\u001b[0;36m2\u001b[0m\u001b[0;34m)\u001b[0m\u001b[0;34m)\u001b[0m\u001b[0;34m\u001b[0m\u001b[0;34m\u001b[0m\u001b[0m\n\u001b[0;32m---> 21\u001b[0;31m     \u001b[0mA\u001b[0m \u001b[0;34m=\u001b[0m \u001b[0mnp\u001b[0m\u001b[0;34m.\u001b[0m\u001b[0mlog\u001b[0m\u001b[0;34m(\u001b[0m\u001b[0;34m(\u001b[0m\u001b[0mm\u001b[0m\u001b[0;34m*\u001b[0m\u001b[0;34m(\u001b[0m\u001b[0mr\u001b[0m\u001b[0;34m[\u001b[0m\u001b[0mnu\u001b[0m\u001b[0;34m]\u001b[0m \u001b[0;34m+\u001b[0m \u001b[0mm\u001b[0m\u001b[0;34m)\u001b[0m\u001b[0;34m/\u001b[0m\u001b[0;34m(\u001b[0m\u001b[0mr\u001b[0m\u001b[0;34m[\u001b[0m\u001b[0mnu\u001b[0m\u001b[0;34m]\u001b[0m\u001b[0;34m**\u001b[0m\u001b[0;36m2\u001b[0m \u001b[0;34m+\u001b[0m \u001b[0mm\u001b[0m\u001b[0;34m**\u001b[0m\u001b[0;36m2\u001b[0m\u001b[0;34m)\u001b[0m\u001b[0;34m**\u001b[0m\u001b[0;36m1.5\u001b[0m\u001b[0;34m)\u001b[0m\u001b[0;34m)\u001b[0m\u001b[0;34m+\u001b[0m \u001b[0mex\u001b[0m \u001b[0;34m+\u001b[0m \u001b[0mnp\u001b[0m\u001b[0;34m.\u001b[0m\u001b[0mlog\u001b[0m\u001b[0;34m(\u001b[0m\u001b[0mar1\u001b[0m\u001b[0;34m**\u001b[0m\u001b[0;34m(\u001b[0m\u001b[0mk1\u001b[0m\u001b[0;34m-\u001b[0m\u001b[0;36m1\u001b[0m\u001b[0;34m)\u001b[0m\u001b[0;34m*\u001b[0m\u001b[0mar2\u001b[0m\u001b[0;34m**\u001b[0m\u001b[0;34m(\u001b[0m\u001b[0mk2\u001b[0m\u001b[0;34m-\u001b[0m\u001b[0;36m1\u001b[0m\u001b[0;34m)\u001b[0m\u001b[0;34m*\u001b[0m\u001b[0mar3\u001b[0m\u001b[0;34m**\u001b[0m\u001b[0;34m(\u001b[0m\u001b[0mk3\u001b[0m\u001b[0;34m-\u001b[0m\u001b[0;36m1\u001b[0m\u001b[0;34m)\u001b[0m\u001b[0;34m)\u001b[0m\u001b[0;34m\u001b[0m\u001b[0;34m\u001b[0m\u001b[0m\n\u001b[0m\u001b[1;32m     22\u001b[0m     \u001b[0;32mreturn\u001b[0m \u001b[0mA\u001b[0m\u001b[0;34m\u001b[0m\u001b[0;34m\u001b[0m\u001b[0m\n\u001b[1;32m     23\u001b[0m \u001b[0;34m\u001b[0m\u001b[0m\n",
      "\u001b[0;31mKeyboardInterrupt\u001b[0m: "
     ]
    }
   ],
   "source": [
    "import random\n",
    "import time\n",
    "st = time.time()\n",
    "num = 10000\n",
    "samp = 1000000\n",
    "K1 = np.zeros(num); K2 = np.zeros(num); K3 = np.zeros(num)\n",
    "\n",
    "C = np.zeros(num)\n",
    "\n",
    "A1 = np.zeros(samp); A2 = np.zeros(samp); A3 = np.zeros(samp)\n",
    "\n",
    "alphacurr1 = np.zeros(samp);alphacurr2 = np.zeros(samp);alphacurr3 = np.zeros(samp)\n",
    "\n",
    "B1 = np.zeros(7); B2 = np.zeros(7); B3 = np.zeros(7)\n",
    "\n",
    "k1 = 12;k2 = 16; k3 = 14\n",
    "\n",
    "\n",
    "\n",
    "acs = 0\n",
    "acc = 0\n",
    "nu0 = .1\n",
    "c0 = 1000\n",
    "ni = samp\n",
    "c = .1\n",
    "ac = 10\n",
    "#Alphacurr = np.random.dirichlet([5,3,2],10).transpose()\n",
    "alphacurr1.fill(0.5); alphacurr2.fill(0.3); alphacurr3.fill(0.2)\n",
    " \n",
    "for priork in range(num):\n",
    "    \n",
    "    \n",
    "    for alp in range(samp):\n",
    "        U = .009\n",
    "        \n",
    "        ac1 = alphacurr1[alp]\n",
    "        ac2 = alphacurr2[alp]\n",
    "        ac3 = alphacurr3[alp]\n",
    "            \n",
    "        prop = np.random.dirichlet([(ac1/U) , (ac2/U) , (ac3/U)], 1).transpose()\n",
    "        prop_a1 = prop[0]\n",
    "        prop_a2 = prop[1]\n",
    "        prop_a3 = prop[2]\n",
    "        \n",
    "        \n",
    "        \n",
    "       \n",
    "        p_num = rpa(prop_a1, prop_a2, prop_a3, k1, k2, k3, c, alp,uni1[alp],uni2[alp],uni3[alp])\n",
    "        p_den = rpa(ac1, ac2, ac3, k1, k2, k3, c, alp,uni1[alp],uni2[alp],uni3[alp])\n",
    "        alpha_num = alphr(ac1, ac2, ac3, prop_a1/U, prop_a2/U, prop_a3/U)\n",
    "        alpha_denom = alphr(prop_a1, prop_a2, prop_a3, ac1/U, ac2/U, ac3/U) \n",
    "        \n",
    "        r_alpha = (p_num + alpha_num ) - (p_den + alpha_denom)\n",
    "        \n",
    "        \n",
    "        if(np.log(np.random.uniform(0, 1 , 1)) < r_alpha):\n",
    "            \n",
    "            alphacurr1[alp] = prop_a1\n",
    "            alphacurr2[alp] = prop_a2\n",
    "            alphacurr3[alp] = prop_a3\n",
    "            acc = acc+1\n",
    "        else:\n",
    "            alphacurr1[alp] = ac1\n",
    "            alphacurr2[alp] = ac2\n",
    "            alphacurr3[alp] = ac3\n",
    "      \n",
    "\n",
    "    G = (nu0 * c0**2)\n",
    "    for g in range(samp):\n",
    "        \n",
    "        de = [uni1[g],uni2[g],uni3[g]]\n",
    "        a = [alphacurr1[g], alphacurr2[g], alphacurr1[g]]\n",
    "        m = np.dot(de,a)\n",
    "        G = G + ((r[g] - m)**2 / (r[g]**2 + m**2))\n",
    "\n",
    "    c = (np.random.gamma((nu0 + ni)/2 , ((G)/2), 1))   \n",
    "    C[priork] = 1 / np.sqrt(c)\n",
    "\n",
    "   \n",
    "    \n",
    "    \n",
    "    Uk1 = .9\n",
    "    \n",
    "    t = np.random.uniform(k1 - Uk1,k1 + Uk1, 1)\n",
    "    if(t<0):\n",
    "        prop_K1 = -t\n",
    "    else:\n",
    "        prop_K1 = t\n",
    "        \n",
    "        \n",
    "        \n",
    "    Uk2 = .9\n",
    "    \n",
    "    t2 = np.random.uniform(k2 - Uk2,k2 + Uk2, 1)\n",
    "    if(t2<0):\n",
    "        prop_K2 = -t2\n",
    "    else:\n",
    "        prop_K2 = t2\n",
    "        \n",
    "        \n",
    "    Uk3 = .9\n",
    "    \n",
    "    t3 = np.random.uniform(k3 - Uk3,k3 + Uk3, 1)\n",
    "    if(t3<0):\n",
    "        prop_K3 = -t3\n",
    "    else:\n",
    "        prop_K3 = t3\n",
    "        \n",
    "    rp = dch(prop_K1, prop_K2, prop_K3, alphacurr1, alphacurr2, alphacurr3)\n",
    "    rc = dch(k1, k2, k3, alphacurr1, alphacurr2, alphacurr3)\n",
    "    kp1 = ((-1*prop_K1)) + ((-2*prop_K2)) +((-3*prop_K3))\n",
    "    kc1 = ((-1*k1)) + ((-2*k2)) + ((-3*k3))\n",
    "        \n",
    "    \n",
    "    a1 = ( rp + kp1 )-( rc + kc1 )\n",
    "    \n",
    "    if(np.log(np.random.uniform(0, 1 , 1)) < a1):\n",
    "        \n",
    "        k1 = prop_K1\n",
    "        k2 = prop_K2\n",
    "        k3 = prop_K3\n",
    "        acs = acs + 1\n",
    "    else:\n",
    "        k1 = k1\n",
    "        k2 = k2\n",
    "        k3 = k3\n",
    "        \n",
    "    \n",
    "    \n",
    "    K1[priork] = k1\n",
    "    K2[priork] = k2\n",
    "    K3[priork] = k3\n",
    "        \n",
    "        \n",
    "\n",
    "et = time.time()  \n",
    "print((et-st)/60)"
   ]
  },
  {
   "cell_type": "code",
   "execution_count": 5,
   "metadata": {},
   "outputs": [
    {
     "data": {
      "text/plain": [
       "108"
      ]
     },
     "execution_count": 5,
     "metadata": {},
     "output_type": "execute_result"
    }
   ],
   "source": [
    "priork"
   ]
  },
  {
   "cell_type": "code",
   "execution_count": null,
   "metadata": {},
   "outputs": [],
   "source": [
    "x1 =[100,200,300,400,500]\n",
    "y1 = [8.6,8.9,9.6,10.05,10.8]\n",
    "y2 = [6.9, 14.1, 21.5, 28.8, 36.2]\n",
    "y3 = [1.7*60, 3.4*60, 5.2*60, 6.8*60, 8.8*60]\n",
    "plt.xlim(90,550)\n",
    "plt.plot(x1,y1,marker='o') \n",
    "plt.plot(x1,y2,marker='+') \n",
    "#plt.plot(x1,y3,marker='*') \n",
    "plt.xlabel(\"Data size\")\n",
    "plt.ylabel(\"Time (sec)\")\n",
    "  \n",
    "# Function add a legend   \n",
    "plt.legend([\"GPU C++ code\", \"CPU C++ code\", \"CPU Python code\"], loc =\"upper left\") "
   ]
  },
  {
   "cell_type": "code",
   "execution_count": null,
   "metadata": {},
   "outputs": [],
   "source": [
    "y3\n"
   ]
  },
  {
   "cell_type": "code",
   "execution_count": null,
   "metadata": {},
   "outputs": [],
   "source": [
    "numa = int((((10*num)-(.3*10*num))/100) + 1)\n",
    "\n",
    "alpha_1 = np.zeros(numa); alpha_2 = np.zeros(numa); alpha_3 = np.zeros(numa);\n",
    "for thin in range(numa):\n",
    "    alpha_1[thin] = af1[int(.3*10*num - 1)+100+thin]\n",
    "    alpha_2[thin] = af2[int(.3*10*num - 1)+100+thin]\n",
    "    alpha_3[thin] = af3[int(.3*10*num - 1)+100+thin]\n",
    "    #Cth[thin] = C[thin+100+98900]\n",
    "  "
   ]
  },
  {
   "cell_type": "code",
   "execution_count": null,
   "metadata": {},
   "outputs": [],
   "source": [
    "plt.plot(af1)"
   ]
  },
  {
   "cell_type": "code",
   "execution_count": null,
   "metadata": {},
   "outputs": [],
   "source": [
    "statistics.mean(alpha_1)"
   ]
  },
  {
   "cell_type": "code",
   "execution_count": null,
   "metadata": {},
   "outputs": [],
   "source": [
    "plt.plot(alpha_2)"
   ]
  },
  {
   "cell_type": "code",
   "execution_count": null,
   "metadata": {},
   "outputs": [],
   "source": [
    "plt.plot(K3)"
   ]
  },
  {
   "cell_type": "code",
   "execution_count": null,
   "metadata": {},
   "outputs": [],
   "source": [
    "x_i1 = np.zeros(numa);x_i2 = np.zeros(numa);x_i3 = np.zeros(numa)\n",
    "xm_1 = np.zeros(numa); xm_2 = np.zeros(numa);xm_3 = np.zeros(numa)\n",
    "x1 = np.linspace(0,1,numa)\n",
    "x2 = np.linspace(0,1,numa)\n",
    "x3 = np.linspace(0,1,numa)\n",
    "stda = np.std(alpha_1)\n",
    "stdb = np.std(alpha_2)\n",
    "stdc = np.std(alpha_3)\n",
    "z1 = np.zeros(len(x1))\n",
    "C1 = (stda/(numa**(1/(3+4))))\n",
    "C2 = (stdb/(numa**(1/(3+4))))\n",
    "C3 = (stdc/(numa**(1/(3+4))))\n",
    "for loop in range(numa):\n",
    "    for loop2 in range(numa):\n",
    "        x_i1[loop2]=x1[loop]-alpha_1[loop2]\n",
    "        x_i2[loop2]=x2[loop]-alpha_2[loop2]\n",
    "        x_i3[loop2]=x3[loop]-alpha_3[loop2]\n",
    "    xm_1[loop] = np.mean(np.exp(-.5*(x_i1/C1)**2))*(2*np.pi)**(-1.5)*C1**(-3)\n",
    "    xm_2[loop] = np.mean(np.exp(-.5*(x_i2/C2)**2))*(2*np.pi)**(-1.5)*C2**(-3)\n",
    "    xm_3[loop] = np.mean(np.exp(-.5*(x_i3/C3)**2))*(2*np.pi)**(-1.5)*C3**(-3)\n",
    "    \n"
   ]
  },
  {
   "cell_type": "code",
   "execution_count": null,
   "metadata": {},
   "outputs": [],
   "source": [
    "plt.plot(x1,xm_1)"
   ]
  },
  {
   "cell_type": "code",
   "execution_count": null,
   "metadata": {},
   "outputs": [],
   "source": [
    "density = gaussian_kde(K3)\n",
    "xs = np.linspace(0,1,1000)\n",
    "plt.plot(xs,density(xs))\n",
    "#plt.plot(K1,np.exp(-K3))\n",
    "plt.show()\n",
    "a = (density(xs))\n",
    "i = list(a).index(max(density(xs))) \n",
    "i\n",
    "xs[i]"
   ]
  },
  {
   "cell_type": "code",
   "execution_count": null,
   "metadata": {},
   "outputs": [],
   "source": [
    "z1 = np.zeros(1000)\n",
    "for i in range(1000):\n",
    "    \n",
    "    z = np.random.dirichlet([K1[i],K2[i],K3[i]],1)\n",
    "    z1[i] = z[i,0]\n"
   ]
  },
  {
   "cell_type": "code",
   "execution_count": null,
   "metadata": {},
   "outputs": [],
   "source": [
    "z"
   ]
  },
  {
   "cell_type": "code",
   "execution_count": null,
   "metadata": {},
   "outputs": [],
   "source": [
    "z[0,1]"
   ]
  },
  {
   "cell_type": "code",
   "execution_count": null,
   "metadata": {},
   "outputs": [],
   "source": [
    "np.exp(-.5*(-25+10.62645)**2)/np.sqrt(2*np.pi)"
   ]
  },
  {
   "cell_type": "code",
   "execution_count": null,
   "metadata": {},
   "outputs": [],
   "source": [
    "plt.plot(alpha_1)"
   ]
  },
  {
   "cell_type": "code",
   "execution_count": null,
   "metadata": {},
   "outputs": [],
   "source": [
    "plt.plot(alpha_2)"
   ]
  },
  {
   "cell_type": "code",
   "execution_count": null,
   "metadata": {},
   "outputs": [],
   "source": [
    "plt.plot(alpha_3)"
   ]
  },
  {
   "cell_type": "code",
   "execution_count": null,
   "metadata": {},
   "outputs": [],
   "source": [
    "density = gaussian_kde(alpha_1)\n",
    "xs = np.linspace(0,1,1000)\n",
    "plt.plot(xs,density(xs))\n",
    "#plt.plot(K1,np.exp(-K3))\n",
    "plt.show()"
   ]
  },
  {
   "cell_type": "code",
   "execution_count": null,
   "metadata": {},
   "outputs": [],
   "source": [
    "density = gaussian_kde(alpha_2)\n",
    "xs = np.linspace(0,1,1000)\n",
    "plt.plot(xs,density(xs))\n",
    "#plt.plot(K1,np.exp(-K3))\n",
    "plt.show()"
   ]
  },
  {
   "cell_type": "code",
   "execution_count": null,
   "metadata": {},
   "outputs": [],
   "source": [
    "density = gaussian_kde(alpha_3)\n",
    "xs = np.linspace(0,1,1000)\n",
    "plt.plot(xs,density(xs))\n",
    "#plt.plot(K1,np.exp(-K3))\n",
    "plt.show()"
   ]
  },
  {
   "cell_type": "code",
   "execution_count": null,
   "metadata": {},
   "outputs": [],
   "source": []
  },
  {
   "cell_type": "code",
   "execution_count": null,
   "metadata": {},
   "outputs": [],
   "source": [
    "import numpy as np\n",
    "def b():\n",
    "    \n",
    "    print(u)\n",
    "    print(\"back to main\")\n",
    "for i in range(3):\n",
    "    u = np.random.dirichlet([10,6,3],3).transpose()\n",
    "    print(u)\n",
    "    print(\"calling function\")\n",
    "    b()\n",
    "   "
   ]
  },
  {
   "cell_type": "code",
   "execution_count": null,
   "metadata": {},
   "outputs": [],
   "source": [
    "z=np.random.dirichlet([1.9,.9,.6],1000000)\n",
    "z"
   ]
  },
  {
   "cell_type": "code",
   "execution_count": null,
   "metadata": {},
   "outputs": [],
   "source": [
    "z.shape"
   ]
  },
  {
   "cell_type": "code",
   "execution_count": null,
   "metadata": {},
   "outputs": [],
   "source": []
  },
  {
   "cell_type": "code",
   "execution_count": null,
   "metadata": {},
   "outputs": [],
   "source": [
    "gamma(101)"
   ]
  },
  {
   "cell_type": "code",
   "execution_count": null,
   "metadata": {},
   "outputs": [],
   "source": [
    "3**30"
   ]
  },
  {
   "cell_type": "code",
   "execution_count": null,
   "metadata": {},
   "outputs": [],
   "source": []
  }
 ],
 "metadata": {
  "kernelspec": {
   "display_name": "Python 3",
   "language": "python",
   "name": "python3"
  },
  "language_info": {
   "codemirror_mode": {
    "name": "ipython",
    "version": 3
   },
   "file_extension": ".py",
   "mimetype": "text/x-python",
   "name": "python",
   "nbconvert_exporter": "python",
   "pygments_lexer": "ipython3",
   "version": "3.7.4"
  }
 },
 "nbformat": 4,
 "nbformat_minor": 2
}
