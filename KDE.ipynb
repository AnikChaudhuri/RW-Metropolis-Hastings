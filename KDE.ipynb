{
 "cells": [
  {
   "cell_type": "code",
   "execution_count": 1,
   "metadata": {},
   "outputs": [],
   "source": [
    "import numpy as np\n",
    "import matplotlib.pyplot as plt\n",
    "from scipy.stats.kde import gaussian_kde\n",
    "import statistics \n",
    "from numpy import trapz\n",
    "from scipy import stats"
   ]
  },
  {
   "cell_type": "code",
   "execution_count": 9,
   "metadata": {},
   "outputs": [
    {
     "data": {
      "text/plain": [
       "0.09483742002285062"
      ]
     },
     "execution_count": 9,
     "metadata": {},
     "output_type": "execute_result"
    }
   ],
   "source": [
    "#K1=np.random.normal(5,1,1000)\n",
    "f = open(\"K3.txt\", \"r\")\n",
    "K1 = np.zeros(3501)\n",
    "for i in range(3501):\n",
    "    K1[i] = f.readline()\n",
    "    \n",
    "\n",
    "f.close()\n",
    "statistics.mean(K1)\n"
   ]
  },
  {
   "cell_type": "code",
   "execution_count": 10,
   "metadata": {},
   "outputs": [
    {
     "data": {
      "text/plain": [
       "[<matplotlib.lines.Line2D at 0x7ff9f0f6b4d0>]"
      ]
     },
     "execution_count": 10,
     "metadata": {},
     "output_type": "execute_result"
    },
    {
     "data": {
      "image/png": "[encoded data removed]",
      "text/plain": [
       "<Figure size 432x288 with 1 Axes>"
      ]
     },
     "metadata": {
      "needs_background": "light"
     },
     "output_type": "display_data"
    }
   ],
   "source": [
    "plt.plot(K1)"
   ]
  },
  {
   "cell_type": "code",
   "execution_count": null,
   "metadata": {},
   "outputs": [],
   "source": [
    "numa = len(K1)\n",
    "alpha_1 = K1\n",
    "#alpha_2 = K2\n",
    "#alpha_3 = K3\n",
    "x_i1 = np.zeros(len(K1));x_i2 = np.zeros(2401);x_i3 = np.zeros(2401)\n",
    "xm_1 = np.zeros(numa); xm_2 = np.zeros(numa);xm_3 = np.zeros(numa)\n",
    "x1 = np.linspace(0,1,numa)\n",
    "x2 = np.linspace(0,1,numa)\n",
    "x3 = np.linspace(0,1,numa)\n",
    "stda = np.std(alpha_1)\n",
    "#stdb = np.std(alpha_2)\n",
    "#stdc = np.std(alpha_3)\n",
    "z1 = np.zeros(len(x1))\n",
    "C1 = (stda/(len(K1)**(1/(3+4))))**2\n",
    "#C2 = (stdb/(2401**(1/(3+4))))**.9\n",
    "#C3 = (stdc/(2401**(1/(3+4))))**.9\n",
    "for loop in range(numa):\n",
    "    for loop2 in range(len(K1)):\n",
    "        x_i1[loop2]=x1[loop]-alpha_1[loop2]\n",
    "        #x_i2[loop2]=x2[loop]-alpha_2[loop2]\n",
    "        #x_i3[loop2]=x3[loop]-alpha_3[loop2]\n",
    "    xm_1[loop] = np.mean(np.exp(-.5*(x_i1/C1)**2))*(2*np.pi)**(-1.5)*C1**(-3)/len(K1)\n",
    "    #xm_2[loop] = np.mean(np.exp(-.5*(x_i2/C2)**2))*(2*np.pi)**(-1.5)*C2**(-3)\n",
    "    #xm_3[loop] = np.mean(np.exp(-.5*(x_i3/C3)**2))*(2*np.pi)**(-1.5)*C3**(-3)\n",
    "    "
   ]
  },
  {
   "cell_type": "code",
   "execution_count": null,
   "metadata": {},
   "outputs": [],
   "source": []
  },
  {
   "cell_type": "code",
   "execution_count": null,
   "metadata": {},
   "outputs": [],
   "source": [
    "plt.plot(x1,xm_1)\n",
    "area=trapz(xm_1,x1,dx=.01)\n",
    "print(area)\n",
    "#plt.hist(K1,bins=100,density=True)"
   ]
  },
  {
   "cell_type": "code",
   "execution_count": 3,
   "metadata": {},
   "outputs": [
    {
     "data": {
      "image/png": "[encoded data removed]",
      "text/plain": [
       "<Figure size 432x288 with 1 Axes>"
      ]
     },
     "metadata": {
      "needs_background": "light"
     },
     "output_type": "display_data"
    },
    {
     "data": {
      "text/plain": [
       "0.6140000000000001"
      ]
     },
     "execution_count": 3,
     "metadata": {},
     "output_type": "execute_result"
    }
   ],
   "source": [
    "density = gaussian_kde(K1,bw_method=(len(K1)**(-1/7))**1)\n",
    "xs = np.linspace(0,1,len(K1))\n",
    "plt.plot(xs,density(xs))\n",
    "#plt.hist(K1,density=True)\n",
    "#matplotlib.pyplot.title('marginal distribution of alpha1')\n",
    "plt.ylabel('alpha1')\n",
    "#plt.plot(K1,np.exp(-K3))\n",
    "plt.show()\n",
    "#statistics.mode(Kth_1)\n",
    "a = (density(xs))\n",
    "i = list(a).index(max(density(xs))) \n",
    "i\n",
    "xs[i]"
   ]
  },
  {
   "cell_type": "code",
   "execution_count": null,
   "metadata": {},
   "outputs": [],
   "source": [
    "plt.hist(K1,density=True)"
   ]
  },
  {
   "cell_type": "code",
   "execution_count": 4,
   "metadata": {},
   "outputs": [
    {
     "name": "stdout",
     "output_type": "stream",
     "text": [
      "0.9999999999999993\n"
     ]
    }
   ],
   "source": [
    "area=trapz(a,xs,dx=.01)\n",
    "print(area)"
   ]
  },
  {
   "cell_type": "code",
   "execution_count": null,
   "metadata": {},
   "outputs": [],
   "source": [
    "stda"
   ]
  },
  {
   "cell_type": "code",
   "execution_count": null,
   "metadata": {},
   "outputs": [],
   "source": [
    "\n",
    "def measure(n):\n",
    "    \"Measurement model, return two coupled measurements.\"\n",
    "    m1 = np.random.normal(size=n)\n",
    "    m2 = np.random.normal(scale=0.5, size=n)\n",
    "    return m1+m2, m1-m2\n",
    "\n",
    "m1, m2 = measure(2000)\n",
    "xmin = m1.min()\n",
    "xmax = m1.max()\n",
    "ymin = m2.min()\n",
    "ymax = m2.max()"
   ]
  },
  {
   "cell_type": "code",
   "execution_count": null,
   "metadata": {},
   "outputs": [],
   "source": []
  },
  {
   "cell_type": "code",
   "execution_count": null,
   "metadata": {},
   "outputs": [],
   "source": []
  },
  {
   "cell_type": "code",
   "execution_count": null,
   "metadata": {},
   "outputs": [],
   "source": [
    "X, Y = np.mgrid[xmin:xmax:100j, ymin:ymax:100j]\n",
    "positions = np.vstack([X.ravel(), Y.ravel()])\n",
    "values = np.vstack([m1, m2])\n",
    "kernel = stats.gaussian_kde(values)\n",
    "Z = np.reshape(kernel(positions).T, X.shape)"
   ]
  },
  {
   "cell_type": "code",
   "execution_count": null,
   "metadata": {},
   "outputs": [],
   "source": [
    "Z.shape"
   ]
  },
  {
   "cell_type": "code",
   "execution_count": null,
   "metadata": {},
   "outputs": [],
   "source": [
    "positions"
   ]
  },
  {
   "cell_type": "code",
   "execution_count": null,
   "metadata": {},
   "outputs": [],
   "source": [
    "mu=np.array([1,10,20])\n",
    "# Let's change this so that the points won't all lie in a plane...\n",
    "sigma=np.matrix([[20,10,10],\n",
    "                 [10,25,1],\n",
    "                 [10,1,50]])\n",
    "\n",
    "data=np.random.multivariate_normal(mu,sigma,1000)\n",
    "values = data.T\n",
    "\n",
    "kde = stats.gaussian_kde(values)\n",
    "\n",
    "# Create a regular 3D grid with 50 points in each dimension\n",
    "xmin, ymin, zmin = data.min(axis=0)\n",
    "xmax, ymax, zmax = data.max(axis=0)\n",
    "xi, yi, zi = np.mgrid[xmin:xmax:50j, ymin:ymax:50j, zmin:zmax:50j]\n",
    "\n",
    "# Evaluate the KDE on a regular grid...\n",
    "coords = np.vstack([item.ravel() for item in [xi, yi, zi]])\n",
    "#x,y,z= values\n",
    "density = kde(coords).reshape(xi.shape)\n"
   ]
  },
  {
   "cell_type": "code",
   "execution_count": null,
   "metadata": {},
   "outputs": [],
   "source": [
    "values.shape"
   ]
  },
  {
   "cell_type": "code",
   "execution_count": null,
   "metadata": {},
   "outputs": [],
   "source": [
    "coords.shape"
   ]
  },
  {
   "cell_type": "code",
   "execution_count": null,
   "metadata": {},
   "outputs": [],
   "source": []
  },
  {
   "cell_type": "code",
   "execution_count": null,
   "metadata": {},
   "outputs": [],
   "source": []
  },
  {
   "cell_type": "code",
   "execution_count": null,
   "metadata": {},
   "outputs": [],
   "source": []
  }
 ],
 "metadata": {
  "kernelspec": {
   "display_name": "Python 3",
   "language": "python",
   "name": "python3"
  },
  "language_info": {
   "codemirror_mode": {
    "name": "ipython",
    "version": 3
   },
   "file_extension": ".py",
   "mimetype": "text/x-python",
   "name": "python",
   "nbconvert_exporter": "python",
   "pygments_lexer": "ipython3",
   "version": "3.7.4"
  }
 },
 "nbformat": 4,
 "nbformat_minor": 2
}
